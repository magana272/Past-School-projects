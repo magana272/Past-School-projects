{
 "cells": [
  {
   "cell_type": "markdown",
   "metadata": {},
   "source": [
    "SPIKE TIMINING AVERAGE"
   ]
  },
  {
   "cell_type": "code",
   "execution_count": 1,
   "metadata": {},
   "outputs": [],
   "source": [
    "from __future__ import division\n",
    "import pickle \n"
   ]
  },
  {
   "cell_type": "code",
   "execution_count": 2,
   "metadata": {},
   "outputs": [],
   "source": [
    "import numpy as np"
   ]
  },
  {
   "cell_type": "code",
   "execution_count": 3,
   "metadata": {},
   "outputs": [],
   "source": [
    "import matplotlib.pyplot as plt\n",
    "import pandas as pd\n",
    "\n",
    "import matplotlib as mpl\n",
    "mpl.rcParams['agg.path.chunksize'] = 60000\n"
   ]
  },
  {
   "cell_type": "code",
   "execution_count": 11,
   "metadata": {},
   "outputs": [],
   "source": [
    "\n",
    "###READING DATA FROM PICKLED NEURODATA \n",
    "\n",
    "data = pickle.load(open( \"neruondata.pickle\", \"rb\" ))\n",
    "stim = data['stim']\n",
    "rho = data['rho']"
   ]
  },
  {
   "cell_type": "code",
   "execution_count": 12,
   "metadata": {},
   "outputs": [
    {
     "data": {
      "text/html": [
       "<div>\n",
       "<style scoped>\n",
       "    .dataframe tbody tr th:only-of-type {\n",
       "        vertical-align: middle;\n",
       "    }\n",
       "\n",
       "    .dataframe tbody tr th {\n",
       "        vertical-align: top;\n",
       "    }\n",
       "\n",
       "    .dataframe thead th {\n",
       "        text-align: right;\n",
       "    }\n",
       "</style>\n",
       "<table border=\"1\" class=\"dataframe\">\n",
       "  <thead>\n",
       "    <tr style=\"text-align: right;\">\n",
       "      <th></th>\n",
       "      <th>stim</th>\n",
       "      <th>rho</th>\n",
       "    </tr>\n",
       "  </thead>\n",
       "  <tbody>\n",
       "    <tr>\n",
       "      <th>0</th>\n",
       "      <td>-111.948242</td>\n",
       "      <td>0</td>\n",
       "    </tr>\n",
       "    <tr>\n",
       "      <th>1</th>\n",
       "      <td>-81.806641</td>\n",
       "      <td>0</td>\n",
       "    </tr>\n",
       "    <tr>\n",
       "      <th>2</th>\n",
       "      <td>10.219727</td>\n",
       "      <td>0</td>\n",
       "    </tr>\n",
       "    <tr>\n",
       "      <th>3</th>\n",
       "      <td>83.364258</td>\n",
       "      <td>0</td>\n",
       "    </tr>\n",
       "    <tr>\n",
       "      <th>4</th>\n",
       "      <td>69.375000</td>\n",
       "      <td>0</td>\n",
       "    </tr>\n",
       "    <tr>\n",
       "      <th>...</th>\n",
       "      <td>...</td>\n",
       "      <td>...</td>\n",
       "    </tr>\n",
       "    <tr>\n",
       "      <th>599995</th>\n",
       "      <td>3.803711</td>\n",
       "      <td>0</td>\n",
       "    </tr>\n",
       "    <tr>\n",
       "      <th>599996</th>\n",
       "      <td>3.657227</td>\n",
       "      <td>0</td>\n",
       "    </tr>\n",
       "    <tr>\n",
       "      <th>599997</th>\n",
       "      <td>9.785156</td>\n",
       "      <td>0</td>\n",
       "    </tr>\n",
       "    <tr>\n",
       "      <th>599998</th>\n",
       "      <td>24.111328</td>\n",
       "      <td>0</td>\n",
       "    </tr>\n",
       "    <tr>\n",
       "      <th>599999</th>\n",
       "      <td>50.253906</td>\n",
       "      <td>0</td>\n",
       "    </tr>\n",
       "  </tbody>\n",
       "</table>\n",
       "<p>600000 rows × 2 columns</p>\n",
       "</div>"
      ],
      "text/plain": [
       "              stim  rho\n",
       "0      -111.948242    0\n",
       "1       -81.806641    0\n",
       "2        10.219727    0\n",
       "3        83.364258    0\n",
       "4        69.375000    0\n",
       "...            ...  ...\n",
       "599995    3.803711    0\n",
       "599996    3.657227    0\n",
       "599997    9.785156    0\n",
       "599998   24.111328    0\n",
       "599999   50.253906    0\n",
       "\n",
       "[600000 rows x 2 columns]"
      ]
     },
     "execution_count": 12,
     "metadata": {},
     "output_type": "execute_result"
    }
   ],
   "source": [
    "pd.DataFrame(data)"
   ]
  },
  {
   "cell_type": "code",
   "execution_count": 22,
   "metadata": {},
   "outputs": [],
   "source": [
    "rhodf = pd.Series(data[\"rho\"])\n",
    "stimdf = pd.Series(data[\"stim\"])\n",
    "times = list(rhodf.values.nonzero())[0]\n",
    "rhodf1 = pd.DataFrame(data[\"rho\"])\n",
    "stimdf1 = pd.DataFrame(data[\"stim\"])"
   ]
  },
  {
   "cell_type": "code",
   "execution_count": 23,
   "metadata": {},
   "outputs": [
    {
     "data": {
      "text/html": [
       "<div>\n",
       "<style scoped>\n",
       "    .dataframe tbody tr th:only-of-type {\n",
       "        vertical-align: middle;\n",
       "    }\n",
       "\n",
       "    .dataframe tbody tr th {\n",
       "        vertical-align: top;\n",
       "    }\n",
       "\n",
       "    .dataframe thead th {\n",
       "        text-align: right;\n",
       "    }\n",
       "</style>\n",
       "<table border=\"1\" class=\"dataframe\">\n",
       "  <thead>\n",
       "    <tr style=\"text-align: right;\">\n",
       "      <th></th>\n",
       "      <th>Spike Time</th>\n",
       "    </tr>\n",
       "  </thead>\n",
       "  <tbody>\n",
       "    <tr>\n",
       "      <th>0</th>\n",
       "      <td>17</td>\n",
       "    </tr>\n",
       "    <tr>\n",
       "      <th>1</th>\n",
       "      <td>22</td>\n",
       "    </tr>\n",
       "    <tr>\n",
       "      <th>2</th>\n",
       "      <td>25</td>\n",
       "    </tr>\n",
       "    <tr>\n",
       "      <th>3</th>\n",
       "      <td>31</td>\n",
       "    </tr>\n",
       "    <tr>\n",
       "      <th>4</th>\n",
       "      <td>34</td>\n",
       "    </tr>\n",
       "    <tr>\n",
       "      <th>...</th>\n",
       "      <td>...</td>\n",
       "    </tr>\n",
       "    <tr>\n",
       "      <th>53596</th>\n",
       "      <td>599818</td>\n",
       "    </tr>\n",
       "    <tr>\n",
       "      <th>53597</th>\n",
       "      <td>599823</td>\n",
       "    </tr>\n",
       "    <tr>\n",
       "      <th>53598</th>\n",
       "      <td>599936</td>\n",
       "    </tr>\n",
       "    <tr>\n",
       "      <th>53599</th>\n",
       "      <td>599941</td>\n",
       "    </tr>\n",
       "    <tr>\n",
       "      <th>53600</th>\n",
       "      <td>599947</td>\n",
       "    </tr>\n",
       "  </tbody>\n",
       "</table>\n",
       "<p>53601 rows × 1 columns</p>\n",
       "</div>"
      ],
      "text/plain": [
       "       Spike Time\n",
       "0              17\n",
       "1              22\n",
       "2              25\n",
       "3              31\n",
       "4              34\n",
       "...           ...\n",
       "53596      599818\n",
       "53597      599823\n",
       "53598      599936\n",
       "53599      599941\n",
       "53600      599947\n",
       "\n",
       "[53601 rows x 1 columns]"
      ]
     },
     "execution_count": 23,
     "metadata": {},
     "output_type": "execute_result"
    },
    {
     "data": {
      "image/png": "[encoded data removed]",
      "text/plain": [
       "<Figure size 432x288 with 1 Axes>"
      ]
     },
     "metadata": {
      "needs_background": "light"
     },
     "output_type": "display_data"
    }
   ],
   "source": [
    "plt.scatter(np.arange(rhodf.values.size),rhodf.values)\n",
    "plt.xlabel(\"time(ms)\")\n",
    "plt.ylabel(\"spike\")\n",
    "pd.DataFrame(data={'Spike Time': times})"
   ]
  },
  {
   "cell_type": "code",
   "execution_count": 27,
   "metadata": {},
   "outputs": [
    {
     "data": {
      "text/html": [
       "<div>\n",
       "<style scoped>\n",
       "    .dataframe tbody tr th:only-of-type {\n",
       "        vertical-align: middle;\n",
       "    }\n",
       "\n",
       "    .dataframe tbody tr th {\n",
       "        vertical-align: top;\n",
       "    }\n",
       "\n",
       "    .dataframe thead th {\n",
       "        text-align: right;\n",
       "    }\n",
       "</style>\n",
       "<table border=\"1\" class=\"dataframe\">\n",
       "  <thead>\n",
       "    <tr style=\"text-align: right;\">\n",
       "      <th></th>\n",
       "      <th>stim</th>\n",
       "      <th>rho</th>\n",
       "    </tr>\n",
       "  </thead>\n",
       "  <tbody>\n",
       "    <tr>\n",
       "      <th>stim</th>\n",
       "      <td>1.000000</td>\n",
       "      <td>0.000484</td>\n",
       "    </tr>\n",
       "    <tr>\n",
       "      <th>rho</th>\n",
       "      <td>0.000484</td>\n",
       "      <td>1.000000</td>\n",
       "    </tr>\n",
       "  </tbody>\n",
       "</table>\n",
       "</div>"
      ],
      "text/plain": [
       "          stim       rho\n",
       "stim  1.000000  0.000484\n",
       "rho   0.000484  1.000000"
      ]
     },
     "execution_count": 27,
     "metadata": {},
     "output_type": "execute_result"
    }
   ],
   "source": [
    "### Correlation of columns b/w stimlus and spike train \n",
    "pd.DataFrame(data).corr()"
   ]
  },
  {
   "cell_type": "code",
   "execution_count": 74,
   "metadata": {},
   "outputs": [],
   "source": [
    "def compute_sta(stim, rho, num_timesteps):\n",
    "    \"\"\"Compute the spike-triggered average from a stimulus and spike-train.\n",
    "    \n",
    "    Args:\n",
    "        stim: stimulus time-series\n",
    "        rho: spike-train time-series\n",
    "        num_timesteps: how many timesteps to use in STA\n",
    "        \n",
    "    Returns:\n",
    "        spike-triggered average for num_timesteps timesteps before spike\"\"\"\n",
    "    \n",
    "    sta = np.zeros((num_timesteps,))\n",
    "    # This command finds the indices of all of the spikes that occur\n",
    "    # after 300 ms into the recording.\n",
    "    spike_times = rho[num_timesteps:].nonzero()[0] + num_timesteps\n",
    "    stim_size = stim.size\n",
    "    # Fill in this value. Note that you should not count spikes that occur\n",
    "    # before 300 ms into the recording.\n",
    "    num_spikes = spike_times.size\n",
    "    num_ones = np.ones((num_timesteps,))\n",
    "    index_sta = 0                     \n",
    "\n",
    "    \n",
    "    # Compute the spike-triggered average of the spikes found.\n",
    "    # To do this, compute the average of all of the vectors\n",
    "    # starting 300 ms (exclusive) before a spike and ending at the time of\n",
    "    # the event (inclusive). Each of these vectors defines a list of\n",
    "    # samples that is contained within a window of 300 ms before each\n",
    "    # spike. The average of these vectors should be completed in an\n",
    "    # element-wise manner.\n",
    "    while index_sta < sta.size:\n",
    "        for i in spike_times :\n",
    "            leftpad = np.zeros((i-num_timesteps,))\n",
    "            rightpad = np.zeros((stim_size-i,))\n",
    "            mask = np.concatenate([leftpad , num_ones , rightpad])\n",
    "            try:\n",
    "                sta[index_sta] = (np.dot(np.transpose(mask),stim)/ num_spikes)\n",
    "            except:\n",
    "                break\n",
    "            index_sta +=1\n",
    "    return sta\n",
    "    "
   ]
  },
  {
   "cell_type": "code",
   "execution_count": 85,
   "metadata": {},
   "outputs": [
    {
     "data": {
      "text/plain": [
       "53583"
      ]
     },
     "execution_count": 85,
     "metadata": {},
     "output_type": "execute_result"
    }
   ],
   "source": [
    "spike_times = rho[150:].nonzero()[0] + 150\n",
    "spike_times.size"
   ]
  },
  {
   "cell_type": "code",
   "execution_count": 83,
   "metadata": {},
   "outputs": [],
   "source": [
    "sampling_period = 2# in ms\n",
    "num_timesteps = 150\n",
    "\n",
    "sta = compute_sta(stim, rho, num_timesteps)\n",
    "\n",
    "time = (np.arange(-num_timesteps, 0) + 1) * sampling_period\n",
    "spike_times = rho[num_timesteps:].nonzero()[0] + num_timesteps"
   ]
  },
  {
   "cell_type": "code",
   "execution_count": 84,
   "metadata": {},
   "outputs": [
    {
     "data": {
      "image/png": "[encoded data removed]",
      "text/plain": [
       "<Figure size 432x288 with 1 Axes>"
      ]
     },
     "metadata": {
      "needs_background": "light"
     },
     "output_type": "display_data"
    }
   ],
   "source": [
    "\n",
    "plt.plot(time, sta)\n",
    "plt.xlabel('Time (ms)')\n",
    "plt.ylabel('Stimulus')\n",
    "plt.title('Spike-Triggered Average')\n",
    "\n",
    "plt.show()\n"
   ]
  },
  {
   "cell_type": "code",
   "execution_count": null,
   "metadata": {},
   "outputs": [],
   "source": []
  },
  {
   "cell_type": "code",
   "execution_count": null,
   "metadata": {},
   "outputs": [],
   "source": []
  }
 ],
 "metadata": {
  "anaconda-cloud": {},
  "kernelspec": {
   "display_name": "Python 3",
   "language": "python",
   "name": "python3"
  },
  "language_info": {
   "codemirror_mode": {
    "name": "ipython",
    "version": 3
   },
   "file_extension": ".py",
   "mimetype": "text/x-python",
   "name": "python",
   "nbconvert_exporter": "python",
   "pygments_lexer": "ipython3",
   "version": "3.7.4"
  }
 },
 "nbformat": 4,
 "nbformat_minor": 1
}
